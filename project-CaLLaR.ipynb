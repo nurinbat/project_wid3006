{
 "cells": [
  {
   "cell_type": "markdown",
   "metadata": {},
   "source": [
    "# Group 26 - Project CaLLaR\n",
    "\n",
    "### Love isn't only reserved between humans! \n",
    "\n",
    "**Project Description:** Our Machine Learning project theme is Love. When we hear that theme for the first time, we thought of love between humans. However, after giving it some thought, why not make a project that focuses on the love between humans and pets? After all, love isn't only reserved between humans! \n",
    "\n",
    "For this project, we used Deep Learning to train our models. Librosa and MFCC is also used to extract features for each of our audio. Our hope is that this project could prove usefull to cat lovers who just wants to know more what their cat is saying!\n"
   ]
  },
  {
   "cell_type": "markdown",
   "metadata": {},
   "source": [
    "### Packages used"
   ]
  },
  {
   "cell_type": "markdown",
   "metadata": {},
   "source": [
    " > Importing useful packages\n",
    " \n",
    " > Installing librosa for audio analysis\n",
    " \n",
    " > Installing tensorflow and keras to do Deep Learning"
   ]
  },
  {
   "cell_type": "code",
   "execution_count": 1,
   "metadata": {},
   "outputs": [],
   "source": [
    "import matplotlib.pyplot as plt\n",
    "import pandas as pd\n",
    "import os\n",
    "import numpy as np\n",
    "import IPython.display as ipd\n",
    "import librosa\n",
    "import librosa.display\n",
    "import tensorflow as tf\n",
    "from tensorflow.keras.utils import to_categorical\n",
    "from tensorflow.keras.models import Sequential\n",
    "from tensorflow.keras.layers import Dense, Dropout,Activation,Flatten\n",
    "from tensorflow.keras.optimizers import Adam\n",
    "from tensorflow.keras.callbacks import ModelCheckpoint\n",
    "from datetime import datetime\n",
    "from sklearn import metrics\n",
    "from sklearn.preprocessing import LabelEncoder\n",
    "from sklearn.model_selection import train_test_split\n",
    "from tqdm import tqdm"
   ]
  },
  {
   "cell_type": "markdown",
   "metadata": {},
   "source": [
    "### Reading in metadata of dataset"
   ]
  },
  {
   "cell_type": "code",
   "execution_count": 2,
   "metadata": {},
   "outputs": [
    {
     "data": {
      "text/html": [
       "<div>\n",
       "<style scoped>\n",
       "    .dataframe tbody tr th:only-of-type {\n",
       "        vertical-align: middle;\n",
       "    }\n",
       "\n",
       "    .dataframe tbody tr th {\n",
       "        vertical-align: top;\n",
       "    }\n",
       "\n",
       "    .dataframe thead th {\n",
       "        text-align: right;\n",
       "    }\n",
       "</style>\n",
       "<table border=\"1\" class=\"dataframe\">\n",
       "  <thead>\n",
       "    <tr style=\"text-align: right;\">\n",
       "      <th></th>\n",
       "      <th>slice_file_name</th>\n",
       "      <th>classID</th>\n",
       "      <th>class</th>\n",
       "    </tr>\n",
       "  </thead>\n",
       "  <tbody>\n",
       "    <tr>\n",
       "      <th>0</th>\n",
       "      <td>B_ANI01_MC_FN_SIM01_101.wav</td>\n",
       "      <td>1</td>\n",
       "      <td>brushing</td>\n",
       "    </tr>\n",
       "    <tr>\n",
       "      <th>1</th>\n",
       "      <td>B_ANI01_MC_FN_SIM01_102.wav</td>\n",
       "      <td>1</td>\n",
       "      <td>brushing</td>\n",
       "    </tr>\n",
       "    <tr>\n",
       "      <th>2</th>\n",
       "      <td>B_ANI01_MC_FN_SIM01_103.wav</td>\n",
       "      <td>1</td>\n",
       "      <td>brushing</td>\n",
       "    </tr>\n",
       "    <tr>\n",
       "      <th>3</th>\n",
       "      <td>B_ANI01_MC_FN_SIM01_301.wav</td>\n",
       "      <td>1</td>\n",
       "      <td>brushing</td>\n",
       "    </tr>\n",
       "    <tr>\n",
       "      <th>4</th>\n",
       "      <td>B_ANI01_MC_FN_SIM01_302.wav</td>\n",
       "      <td>1</td>\n",
       "      <td>brushing</td>\n",
       "    </tr>\n",
       "  </tbody>\n",
       "</table>\n",
       "</div>"
      ],
      "text/plain": [
       "               slice_file_name  classID     class\n",
       "0  B_ANI01_MC_FN_SIM01_101.wav        1  brushing\n",
       "1  B_ANI01_MC_FN_SIM01_102.wav        1  brushing\n",
       "2  B_ANI01_MC_FN_SIM01_103.wav        1  brushing\n",
       "3  B_ANI01_MC_FN_SIM01_301.wav        1  brushing\n",
       "4  B_ANI01_MC_FN_SIM01_302.wav        1  brushing"
      ]
     },
     "execution_count": 2,
     "metadata": {},
     "output_type": "execute_result"
    }
   ],
   "source": [
    "metadata= pd.read_csv('ML project\\data\\metadata.csv')\n",
    "metadata.head()"
   ]
  },
  {
   "cell_type": "markdown",
   "metadata": {},
   "source": [
    "#### Checking out if dataset is imbalanced"
   ]
  },
  {
   "cell_type": "code",
   "execution_count": 3,
   "metadata": {},
   "outputs": [
    {
     "data": {
      "text/plain": [
       "isolation           221\n",
       "brushing            127\n",
       "waiting_for_food     92\n",
       "Name: class, dtype: int64"
      ]
     },
     "execution_count": 3,
     "metadata": {},
     "output_type": "execute_result"
    }
   ],
   "source": [
    "##check wheter the dataset is imbalanced\n",
    "metadata['class'].value_counts()"
   ]
  },
  {
   "cell_type": "markdown",
   "metadata": {},
   "source": [
    "### Using Mel-Frequency Cepstral Coefficients (MFCC) from librosa package to extract features of audio file"
   ]
  },
  {
   "cell_type": "markdown",
   "metadata": {},
   "source": [
    "#### Loading in the dataset's folder path (that contains the audios) and the audio's dataset"
   ]
  },
  {
   "cell_type": "code",
   "execution_count": 4,
   "metadata": {},
   "outputs": [],
   "source": [
    "audio_data_path= 'ML project\\data\\dataset'\n",
    "metadata= pd.read_csv('ML project\\data\\metadata.csv')"
   ]
  },
  {
   "cell_type": "markdown",
   "metadata": {},
   "source": [
    "#### Function to extract features from audio. Features extracted= 40"
   ]
  },
  {
   "cell_type": "code",
   "execution_count": 46,
   "metadata": {},
   "outputs": [],
   "source": [
    "def features_extractor(file):\n",
    "    audio,sample_rate= librosa.load(file_name,res_type = 'kaiser_fast')\n",
    "    mfcss_features=librosa.feature.mfcc(y=audio,sr=sample_rate,n_mfcc=40)\n",
    "    mfccs_scaled_features= np.mean(mfcss_features.T,axis=0)\n",
    "    \n",
    "    return mfccs_scaled_features"
   ]
  },
  {
   "cell_type": "markdown",
   "metadata": {},
   "source": [
    "#### Iterating through all audio files to extract each feature by class"
   ]
  },
  {
   "cell_type": "code",
   "execution_count": 47,
   "metadata": {},
   "outputs": [
    {
     "name": "stderr",
     "output_type": "stream",
     "text": [
      "440it [00:10, 40.21it/s]\n"
     ]
    }
   ],
   "source": [
    "#Now we iterate through every audio file and extract features using MFCC\n",
    "extracted_features=[]\n",
    "for index_num, row in tqdm (metadata.iterrows()):\n",
    "    file_name= os.path.join(os.path.abspath(audio_data_path),str(row[\"slice_file_name\"]))\n",
    "    final_class_label=row[\"class\"]\n",
    "    data=features_extractor(file_name)\n",
    "    extracted_features.append([data,final_class_label])"
   ]
  },
  {
   "cell_type": "markdown",
   "metadata": {},
   "source": [
    "#### Converting extracted_features to Pandas dataframe"
   ]
  },
  {
   "cell_type": "code",
   "execution_count": 48,
   "metadata": {},
   "outputs": [
    {
     "data": {
      "text/html": [
       "<div>\n",
       "<style scoped>\n",
       "    .dataframe tbody tr th:only-of-type {\n",
       "        vertical-align: middle;\n",
       "    }\n",
       "\n",
       "    .dataframe tbody tr th {\n",
       "        vertical-align: top;\n",
       "    }\n",
       "\n",
       "    .dataframe thead th {\n",
       "        text-align: right;\n",
       "    }\n",
       "</style>\n",
       "<table border=\"1\" class=\"dataframe\">\n",
       "  <thead>\n",
       "    <tr style=\"text-align: right;\">\n",
       "      <th></th>\n",
       "      <th>feature</th>\n",
       "      <th>class</th>\n",
       "    </tr>\n",
       "  </thead>\n",
       "  <tbody>\n",
       "    <tr>\n",
       "      <th>0</th>\n",
       "      <td>[-396.81778, 136.41545, -74.92035, -11.478852,...</td>\n",
       "      <td>brushing</td>\n",
       "    </tr>\n",
       "    <tr>\n",
       "      <th>1</th>\n",
       "      <td>[-542.6039, 158.09341, -73.43401, -11.935203, ...</td>\n",
       "      <td>brushing</td>\n",
       "    </tr>\n",
       "    <tr>\n",
       "      <th>2</th>\n",
       "      <td>[-517.51764, 142.89006, -69.55315, -7.46689, 3...</td>\n",
       "      <td>brushing</td>\n",
       "    </tr>\n",
       "    <tr>\n",
       "      <th>3</th>\n",
       "      <td>[-476.4709, 112.17069, -65.29729, -10.651881, ...</td>\n",
       "      <td>brushing</td>\n",
       "    </tr>\n",
       "    <tr>\n",
       "      <th>4</th>\n",
       "      <td>[-511.12573, 135.90286, -62.427002, -11.154292...</td>\n",
       "      <td>brushing</td>\n",
       "    </tr>\n",
       "  </tbody>\n",
       "</table>\n",
       "</div>"
      ],
      "text/plain": [
       "                                             feature     class\n",
       "0  [-396.81778, 136.41545, -74.92035, -11.478852,...  brushing\n",
       "1  [-542.6039, 158.09341, -73.43401, -11.935203, ...  brushing\n",
       "2  [-517.51764, 142.89006, -69.55315, -7.46689, 3...  brushing\n",
       "3  [-476.4709, 112.17069, -65.29729, -10.651881, ...  brushing\n",
       "4  [-511.12573, 135.90286, -62.427002, -11.154292...  brushing"
      ]
     },
     "execution_count": 48,
     "metadata": {},
     "output_type": "execute_result"
    }
   ],
   "source": [
    "extracted_features_df=pd.DataFrame(extracted_features,columns=['feature','class'])\n",
    "extracted_features_df.head()"
   ]
  },
  {
   "cell_type": "markdown",
   "metadata": {},
   "source": [
    "#### Split dataset into independent and dependent dataset"
   ]
  },
  {
   "cell_type": "code",
   "execution_count": 49,
   "metadata": {},
   "outputs": [],
   "source": [
    "X=np.array(extracted_features_df['feature'].tolist())\n",
    "y=np.array(extracted_features_df['class'].tolist())"
   ]
  },
  {
   "cell_type": "markdown",
   "metadata": {},
   "source": [
    "#### Label encoding"
   ]
  },
  {
   "cell_type": "code",
   "execution_count": 50,
   "metadata": {},
   "outputs": [],
   "source": [
    "labelencoder = LabelEncoder()\n",
    "y=to_categorical(labelencoder.fit_transform(y))"
   ]
  },
  {
   "cell_type": "markdown",
   "metadata": {},
   "source": [
    "### Train test split"
   ]
  },
  {
   "cell_type": "code",
   "execution_count": 51,
   "metadata": {},
   "outputs": [],
   "source": [
    "X_train,X_test,y_train,y_test=train_test_split(X,y,test_size=0.2,random_state=0)"
   ]
  },
  {
   "cell_type": "markdown",
   "metadata": {},
   "source": [
    "#### Initialising the number of output layer nodes based on number of classes"
   ]
  },
  {
   "cell_type": "code",
   "execution_count": 52,
   "metadata": {},
   "outputs": [],
   "source": [
    "## Number of classes\n",
    "num_labels=y.shape[1]"
   ]
  },
  {
   "cell_type": "markdown",
   "metadata": {},
   "source": [
    "## Adding Layers for models"
   ]
  },
  {
   "cell_type": "code",
   "execution_count": 53,
   "metadata": {},
   "outputs": [],
   "source": [
    "model=Sequential()\n",
    "###first layer\n",
    "model.add(Dense(100,input_shape=(40,)))\n",
    "model.add(Activation('relu'))\n",
    "model.add(Dropout(0.5))\n",
    "\n",
    "### second layer\n",
    "model.add(Dense(200))\n",
    "model.add(Activation('relu'))\n",
    "model.add(Dropout(0.5))\n",
    "\n",
    "### third layer\n",
    "model.add(Dense(100))\n",
    "model.add(Activation('relu'))\n",
    "model.add(Dropout(0.5))\n",
    "\n",
    "### last layer\n",
    "model.add(Dense(num_labels))\n",
    "model.add(Activation('softmax'))"
   ]
  },
  {
   "cell_type": "markdown",
   "metadata": {},
   "source": [
    "#### Model summary"
   ]
  },
  {
   "cell_type": "code",
   "execution_count": 54,
   "metadata": {},
   "outputs": [
    {
     "name": "stdout",
     "output_type": "stream",
     "text": [
      "Model: \"sequential_5\"\n",
      "_________________________________________________________________\n",
      "Layer (type)                 Output Shape              Param #   \n",
      "=================================================================\n",
      "dense_20 (Dense)             (None, 100)               4100      \n",
      "_________________________________________________________________\n",
      "activation_20 (Activation)   (None, 100)               0         \n",
      "_________________________________________________________________\n",
      "dropout_15 (Dropout)         (None, 100)               0         \n",
      "_________________________________________________________________\n",
      "dense_21 (Dense)             (None, 200)               20200     \n",
      "_________________________________________________________________\n",
      "activation_21 (Activation)   (None, 200)               0         \n",
      "_________________________________________________________________\n",
      "dropout_16 (Dropout)         (None, 200)               0         \n",
      "_________________________________________________________________\n",
      "dense_22 (Dense)             (None, 100)               20100     \n",
      "_________________________________________________________________\n",
      "activation_22 (Activation)   (None, 100)               0         \n",
      "_________________________________________________________________\n",
      "dropout_17 (Dropout)         (None, 100)               0         \n",
      "_________________________________________________________________\n",
      "dense_23 (Dense)             (None, 3)                 303       \n",
      "_________________________________________________________________\n",
      "activation_23 (Activation)   (None, 3)                 0         \n",
      "=================================================================\n",
      "Total params: 44,703\n",
      "Trainable params: 44,703\n",
      "Non-trainable params: 0\n",
      "_________________________________________________________________\n"
     ]
    }
   ],
   "source": [
    "model.summary()"
   ]
  },
  {
   "cell_type": "markdown",
   "metadata": {},
   "source": [
    "#### Compiling the model"
   ]
  },
  {
   "cell_type": "code",
   "execution_count": 55,
   "metadata": {},
   "outputs": [],
   "source": [
    "model.compile(loss='categorical_crossentropy', metrics=['accuracy'],optimizer='adam')"
   ]
  },
  {
   "cell_type": "markdown",
   "metadata": {},
   "source": [
    "### Training the model"
   ]
  },
  {
   "cell_type": "code",
   "execution_count": 70,
   "metadata": {},
   "outputs": [
    {
     "name": "stdout",
     "output_type": "stream",
     "text": [
      "Epoch 1/100\n",
      " 1/11 [=>............................] - ETA: 0s - loss: 0.5775 - accuracy: 0.7500\n",
      "Epoch 00001: val_loss improved from inf to 1.97766, saving model to save_models\\audio_classification.hdf5\n",
      "11/11 [==============================] - 0s 5ms/step - loss: 0.6485 - accuracy: 0.7045 - val_loss: 1.9777 - val_accuracy: 0.7273\n",
      "Epoch 2/100\n",
      " 1/11 [=>............................] - ETA: 0s - loss: 0.4743 - accuracy: 0.7500\n",
      "Epoch 00002: val_loss did not improve from 1.97766\n",
      "11/11 [==============================] - 0s 3ms/step - loss: 0.5735 - accuracy: 0.7188 - val_loss: 2.5005 - val_accuracy: 0.7045\n",
      "Epoch 3/100\n",
      " 1/11 [=>............................] - ETA: 0s - loss: 0.6733 - accuracy: 0.7188\n",
      "Epoch 00003: val_loss did not improve from 1.97766\n",
      "11/11 [==============================] - 0s 3ms/step - loss: 0.5817 - accuracy: 0.7074 - val_loss: 2.4650 - val_accuracy: 0.6705\n",
      "Epoch 4/100\n",
      " 1/11 [=>............................] - ETA: 0s - loss: 0.5879 - accuracy: 0.7500\n",
      "Epoch 00004: val_loss improved from 1.97766 to 1.87576, saving model to save_models\\audio_classification.hdf5\n",
      "11/11 [==============================] - 0s 4ms/step - loss: 0.5612 - accuracy: 0.7273 - val_loss: 1.8758 - val_accuracy: 0.7159\n",
      "Epoch 5/100\n",
      " 1/11 [=>............................] - ETA: 0s - loss: 0.5567 - accuracy: 0.6875\n",
      "Epoch 00005: val_loss did not improve from 1.87576\n",
      "11/11 [==============================] - 0s 3ms/step - loss: 0.5460 - accuracy: 0.7330 - val_loss: 1.8768 - val_accuracy: 0.7159\n",
      "Epoch 6/100\n",
      " 1/11 [=>............................] - ETA: 0s - loss: 0.6637 - accuracy: 0.6562\n",
      "Epoch 00006: val_loss did not improve from 1.87576\n",
      "11/11 [==============================] - 0s 3ms/step - loss: 0.5921 - accuracy: 0.7045 - val_loss: 2.2070 - val_accuracy: 0.7045\n",
      "Epoch 7/100\n",
      " 1/11 [=>............................] - ETA: 0s - loss: 0.5186 - accuracy: 0.7500\n",
      "Epoch 00007: val_loss did not improve from 1.87576\n",
      "11/11 [==============================] - 0s 3ms/step - loss: 0.5425 - accuracy: 0.7500 - val_loss: 2.5934 - val_accuracy: 0.6364\n",
      "Epoch 8/100\n",
      " 1/11 [=>............................] - ETA: 0s - loss: 0.6272 - accuracy: 0.6562\n",
      "Epoch 00008: val_loss did not improve from 1.87576\n",
      "11/11 [==============================] - 0s 3ms/step - loss: 0.6468 - accuracy: 0.7045 - val_loss: 2.1580 - val_accuracy: 0.7159\n",
      "Epoch 9/100\n",
      " 1/11 [=>............................] - ETA: 0s - loss: 0.5647 - accuracy: 0.7500\n",
      "Epoch 00009: val_loss did not improve from 1.87576\n",
      "11/11 [==============================] - 0s 3ms/step - loss: 0.5737 - accuracy: 0.7131 - val_loss: 2.2532 - val_accuracy: 0.7159\n",
      "Epoch 10/100\n",
      " 1/11 [=>............................] - ETA: 0s - loss: 0.5971 - accuracy: 0.6562\n",
      "Epoch 00010: val_loss did not improve from 1.87576\n",
      "11/11 [==============================] - 0s 2ms/step - loss: 0.5606 - accuracy: 0.7159 - val_loss: 1.8804 - val_accuracy: 0.6818\n",
      "Epoch 11/100\n",
      " 1/11 [=>............................] - ETA: 0s - loss: 0.4823 - accuracy: 0.7812\n",
      "Epoch 00011: val_loss improved from 1.87576 to 1.86407, saving model to save_models\\audio_classification.hdf5\n",
      "11/11 [==============================] - 0s 3ms/step - loss: 0.5555 - accuracy: 0.7273 - val_loss: 1.8641 - val_accuracy: 0.6932\n",
      "Epoch 12/100\n",
      " 1/11 [=>............................] - ETA: 0s - loss: 0.4712 - accuracy: 0.7188\n",
      "Epoch 00012: val_loss did not improve from 1.86407\n",
      "11/11 [==============================] - 0s 3ms/step - loss: 0.5414 - accuracy: 0.7358 - val_loss: 2.5567 - val_accuracy: 0.6932\n",
      "Epoch 13/100\n",
      " 1/11 [=>............................] - ETA: 0s - loss: 0.5458 - accuracy: 0.7500\n",
      "Epoch 00013: val_loss did not improve from 1.86407\n",
      "11/11 [==============================] - 0s 3ms/step - loss: 0.5575 - accuracy: 0.7244 - val_loss: 3.1902 - val_accuracy: 0.7045\n",
      "Epoch 14/100\n",
      " 1/11 [=>............................] - ETA: 0s - loss: 0.4629 - accuracy: 0.7500\n",
      "Epoch 00014: val_loss did not improve from 1.86407\n",
      "11/11 [==============================] - 0s 3ms/step - loss: 0.5605 - accuracy: 0.7415 - val_loss: 1.9810 - val_accuracy: 0.7159\n",
      "Epoch 15/100\n",
      " 1/11 [=>............................] - ETA: 0s - loss: 0.5758 - accuracy: 0.8750\n",
      "Epoch 00015: val_loss did not improve from 1.86407\n",
      "11/11 [==============================] - 0s 3ms/step - loss: 0.5773 - accuracy: 0.7301 - val_loss: 1.9066 - val_accuracy: 0.6818\n",
      "Epoch 16/100\n",
      " 1/11 [=>............................] - ETA: 0s - loss: 0.3919 - accuracy: 0.7500\n",
      "Epoch 00016: val_loss improved from 1.86407 to 1.55793, saving model to save_models\\audio_classification.hdf5\n",
      "11/11 [==============================] - 0s 3ms/step - loss: 0.6074 - accuracy: 0.7102 - val_loss: 1.5579 - val_accuracy: 0.6932\n",
      "Epoch 17/100\n",
      " 1/11 [=>............................] - ETA: 0s - loss: 0.4913 - accuracy: 0.8125\n",
      "Epoch 00017: val_loss improved from 1.55793 to 1.12287, saving model to save_models\\audio_classification.hdf5\n",
      "11/11 [==============================] - 0s 3ms/step - loss: 0.6153 - accuracy: 0.7017 - val_loss: 1.1229 - val_accuracy: 0.7273\n",
      "Epoch 18/100\n",
      " 1/11 [=>............................] - ETA: 0s - loss: 0.4979 - accuracy: 0.7500\n",
      "Epoch 00018: val_loss did not improve from 1.12287\n",
      "11/11 [==============================] - 0s 3ms/step - loss: 0.5759 - accuracy: 0.7159 - val_loss: 1.3967 - val_accuracy: 0.7500\n",
      "Epoch 19/100\n",
      " 1/11 [=>............................] - ETA: 0s - loss: 0.4900 - accuracy: 0.7500\n",
      "Epoch 00019: val_loss did not improve from 1.12287\n",
      "11/11 [==============================] - 0s 3ms/step - loss: 0.5499 - accuracy: 0.7642 - val_loss: 1.4423 - val_accuracy: 0.6818\n",
      "Epoch 20/100\n",
      " 1/11 [=>............................] - ETA: 0s - loss: 0.4942 - accuracy: 0.7188\n",
      "Epoch 00020: val_loss did not improve from 1.12287\n",
      "11/11 [==============================] - 0s 3ms/step - loss: 0.5816 - accuracy: 0.7188 - val_loss: 1.7706 - val_accuracy: 0.7159\n",
      "Epoch 21/100\n",
      " 1/11 [=>............................] - ETA: 0s - loss: 0.6899 - accuracy: 0.6875\n",
      "Epoch 00021: val_loss did not improve from 1.12287\n",
      "11/11 [==============================] - 0s 3ms/step - loss: 0.6152 - accuracy: 0.7131 - val_loss: 1.5111 - val_accuracy: 0.6932\n",
      "Epoch 22/100\n",
      " 1/11 [=>............................] - ETA: 0s - loss: 0.7842 - accuracy: 0.6875\n",
      "Epoch 00022: val_loss did not improve from 1.12287\n",
      "11/11 [==============================] - 0s 3ms/step - loss: 0.6577 - accuracy: 0.6761 - val_loss: 1.3696 - val_accuracy: 0.7273\n",
      "Epoch 23/100\n",
      " 1/11 [=>............................] - ETA: 0s - loss: 0.6305 - accuracy: 0.7188\n",
      "Epoch 00023: val_loss did not improve from 1.12287\n",
      "11/11 [==============================] - 0s 3ms/step - loss: 0.6500 - accuracy: 0.6818 - val_loss: 2.1660 - val_accuracy: 0.7273\n",
      "Epoch 24/100\n",
      " 1/11 [=>............................] - ETA: 0s - loss: 0.7438 - accuracy: 0.6875\n",
      "Epoch 00024: val_loss did not improve from 1.12287\n",
      "11/11 [==============================] - 0s 3ms/step - loss: 0.6179 - accuracy: 0.6932 - val_loss: 1.8498 - val_accuracy: 0.7159\n",
      "Epoch 25/100\n",
      " 1/11 [=>............................] - ETA: 0s - loss: 0.6411 - accuracy: 0.7188\n",
      "Epoch 00025: val_loss did not improve from 1.12287\n",
      "11/11 [==============================] - 0s 3ms/step - loss: 0.6113 - accuracy: 0.6903 - val_loss: 1.8061 - val_accuracy: 0.7045\n",
      "Epoch 26/100\n",
      " 1/11 [=>............................] - ETA: 0s - loss: 0.8076 - accuracy: 0.5938\n",
      "Epoch 00026: val_loss did not improve from 1.12287\n",
      "11/11 [==============================] - 0s 3ms/step - loss: 0.6479 - accuracy: 0.6705 - val_loss: 1.3539 - val_accuracy: 0.7045\n",
      "Epoch 27/100\n",
      " 1/11 [=>............................] - ETA: 0s - loss: 0.5243 - accuracy: 0.7500\n",
      "Epoch 00027: val_loss did not improve from 1.12287\n",
      "11/11 [==============================] - 0s 3ms/step - loss: 0.6252 - accuracy: 0.6932 - val_loss: 1.3366 - val_accuracy: 0.7386\n",
      "Epoch 28/100\n",
      " 1/11 [=>............................] - ETA: 0s - loss: 0.5817 - accuracy: 0.6562\n",
      "Epoch 00028: val_loss did not improve from 1.12287\n",
      "11/11 [==============================] - 0s 2ms/step - loss: 0.6123 - accuracy: 0.6960 - val_loss: 1.4891 - val_accuracy: 0.6932\n",
      "Epoch 29/100\n",
      " 1/11 [=>............................] - ETA: 0s - loss: 0.5257 - accuracy: 0.7188\n",
      "Epoch 00029: val_loss did not improve from 1.12287\n",
      "11/11 [==============================] - 0s 3ms/step - loss: 0.6053 - accuracy: 0.6932 - val_loss: 1.8092 - val_accuracy: 0.7045\n"
     ]
    },
    {
     "name": "stdout",
     "output_type": "stream",
     "text": [
      "Epoch 30/100\n",
      " 1/11 [=>............................] - ETA: 0s - loss: 0.4824 - accuracy: 0.7500\n",
      "Epoch 00030: val_loss did not improve from 1.12287\n",
      "11/11 [==============================] - 0s 3ms/step - loss: 0.5638 - accuracy: 0.7074 - val_loss: 2.0896 - val_accuracy: 0.7386\n",
      "Epoch 31/100\n",
      " 1/11 [=>............................] - ETA: 0s - loss: 0.6220 - accuracy: 0.6250\n",
      "Epoch 00031: val_loss did not improve from 1.12287\n",
      "11/11 [==============================] - 0s 2ms/step - loss: 0.5607 - accuracy: 0.7188 - val_loss: 2.0143 - val_accuracy: 0.7159\n",
      "Epoch 32/100\n",
      " 1/11 [=>............................] - ETA: 0s - loss: 0.4785 - accuracy: 0.7188\n",
      "Epoch 00032: val_loss did not improve from 1.12287\n",
      "11/11 [==============================] - 0s 3ms/step - loss: 0.5633 - accuracy: 0.7301 - val_loss: 1.7575 - val_accuracy: 0.6932\n",
      "Epoch 33/100\n",
      " 1/11 [=>............................] - ETA: 0s - loss: 0.8186 - accuracy: 0.5938\n",
      "Epoch 00033: val_loss did not improve from 1.12287\n",
      "11/11 [==============================] - 0s 3ms/step - loss: 0.5736 - accuracy: 0.7074 - val_loss: 1.8195 - val_accuracy: 0.7045\n",
      "Epoch 34/100\n",
      " 1/11 [=>............................] - ETA: 0s - loss: 0.5447 - accuracy: 0.6250\n",
      "Epoch 00034: val_loss did not improve from 1.12287\n",
      "11/11 [==============================] - 0s 3ms/step - loss: 0.5726 - accuracy: 0.7131 - val_loss: 2.1485 - val_accuracy: 0.7386\n",
      "Epoch 35/100\n",
      " 1/11 [=>............................] - ETA: 0s - loss: 0.6872 - accuracy: 0.6562\n",
      "Epoch 00035: val_loss did not improve from 1.12287\n",
      "11/11 [==============================] - 0s 3ms/step - loss: 0.5686 - accuracy: 0.7301 - val_loss: 2.4060 - val_accuracy: 0.6818\n",
      "Epoch 36/100\n",
      " 1/11 [=>............................] - ETA: 0s - loss: 0.5993 - accuracy: 0.7188\n",
      "Epoch 00036: val_loss did not improve from 1.12287\n",
      "11/11 [==============================] - 0s 3ms/step - loss: 0.5557 - accuracy: 0.7188 - val_loss: 2.5508 - val_accuracy: 0.7273\n",
      "Epoch 37/100\n",
      " 1/11 [=>............................] - ETA: 0s - loss: 0.6806 - accuracy: 0.6875\n",
      "Epoch 00037: val_loss did not improve from 1.12287\n",
      "11/11 [==============================] - 0s 3ms/step - loss: 0.5713 - accuracy: 0.7330 - val_loss: 2.6046 - val_accuracy: 0.6932\n",
      "Epoch 38/100\n",
      " 1/11 [=>............................] - ETA: 0s - loss: 0.6479 - accuracy: 0.6562\n",
      "Epoch 00038: val_loss did not improve from 1.12287\n",
      "11/11 [==============================] - 0s 3ms/step - loss: 0.5795 - accuracy: 0.7045 - val_loss: 2.2546 - val_accuracy: 0.6477\n",
      "Epoch 39/100\n",
      " 1/11 [=>............................] - ETA: 0s - loss: 0.8292 - accuracy: 0.5312\n",
      "Epoch 00039: val_loss did not improve from 1.12287\n",
      "11/11 [==============================] - 0s 3ms/step - loss: 0.5697 - accuracy: 0.7074 - val_loss: 2.0750 - val_accuracy: 0.6932\n",
      "Epoch 40/100\n",
      " 1/11 [=>............................] - ETA: 0s - loss: 0.5790 - accuracy: 0.7812\n",
      "Epoch 00040: val_loss did not improve from 1.12287\n",
      "11/11 [==============================] - 0s 3ms/step - loss: 0.5807 - accuracy: 0.7074 - val_loss: 1.8887 - val_accuracy: 0.7159\n",
      "Epoch 41/100\n",
      " 1/11 [=>............................] - ETA: 0s - loss: 0.5967 - accuracy: 0.7188\n",
      "Epoch 00041: val_loss did not improve from 1.12287\n",
      "11/11 [==============================] - 0s 3ms/step - loss: 0.5803 - accuracy: 0.6932 - val_loss: 1.9379 - val_accuracy: 0.7045\n",
      "Epoch 42/100\n",
      " 1/11 [=>............................] - ETA: 0s - loss: 0.4432 - accuracy: 0.7812\n",
      "Epoch 00042: val_loss did not improve from 1.12287\n",
      "11/11 [==============================] - 0s 3ms/step - loss: 0.5619 - accuracy: 0.7188 - val_loss: 2.3576 - val_accuracy: 0.6705\n",
      "Epoch 43/100\n",
      " 1/11 [=>............................] - ETA: 0s - loss: 0.6033 - accuracy: 0.6250\n",
      "Epoch 00043: val_loss did not improve from 1.12287\n",
      "11/11 [==============================] - 0s 3ms/step - loss: 0.5891 - accuracy: 0.7017 - val_loss: 2.6458 - val_accuracy: 0.7273\n",
      "Epoch 44/100\n",
      " 1/11 [=>............................] - ETA: 0s - loss: 0.5454 - accuracy: 0.7500\n",
      "Epoch 00044: val_loss did not improve from 1.12287\n",
      "11/11 [==============================] - 0s 3ms/step - loss: 0.5562 - accuracy: 0.7188 - val_loss: 2.9454 - val_accuracy: 0.6591\n",
      "Epoch 45/100\n",
      " 1/11 [=>............................] - ETA: 0s - loss: 0.5806 - accuracy: 0.7188\n",
      "Epoch 00045: val_loss did not improve from 1.12287\n",
      "11/11 [==============================] - 0s 3ms/step - loss: 0.5317 - accuracy: 0.7330 - val_loss: 2.8717 - val_accuracy: 0.7045\n",
      "Epoch 46/100\n",
      " 1/11 [=>............................] - ETA: 0s - loss: 0.6252 - accuracy: 0.6562\n",
      "Epoch 00046: val_loss did not improve from 1.12287\n",
      "11/11 [==============================] - 0s 3ms/step - loss: 0.5240 - accuracy: 0.7614 - val_loss: 2.9195 - val_accuracy: 0.7045\n",
      "Epoch 47/100\n",
      " 1/11 [=>............................] - ETA: 0s - loss: 0.6633 - accuracy: 0.6562\n",
      "Epoch 00047: val_loss did not improve from 1.12287\n",
      "11/11 [==============================] - 0s 3ms/step - loss: 0.5578 - accuracy: 0.7386 - val_loss: 2.5411 - val_accuracy: 0.6705\n",
      "Epoch 48/100\n",
      " 1/11 [=>............................] - ETA: 0s - loss: 0.5836 - accuracy: 0.7188\n",
      "Epoch 00048: val_loss did not improve from 1.12287\n",
      "11/11 [==============================] - 0s 3ms/step - loss: 0.5290 - accuracy: 0.7358 - val_loss: 2.4017 - val_accuracy: 0.6705\n",
      "Epoch 49/100\n",
      " 1/11 [=>............................] - ETA: 0s - loss: 0.6675 - accuracy: 0.6562\n",
      "Epoch 00049: val_loss did not improve from 1.12287\n",
      "11/11 [==============================] - 0s 3ms/step - loss: 0.5685 - accuracy: 0.7301 - val_loss: 2.2116 - val_accuracy: 0.7045\n",
      "Epoch 50/100\n",
      " 1/11 [=>............................] - ETA: 0s - loss: 0.6914 - accuracy: 0.6875\n",
      "Epoch 00050: val_loss did not improve from 1.12287\n",
      "11/11 [==============================] - 0s 3ms/step - loss: 0.6237 - accuracy: 0.7159 - val_loss: 1.9679 - val_accuracy: 0.6932\n",
      "Epoch 51/100\n",
      " 1/11 [=>............................] - ETA: 0s - loss: 0.5494 - accuracy: 0.7500\n",
      "Epoch 00051: val_loss did not improve from 1.12287\n",
      "11/11 [==============================] - 0s 3ms/step - loss: 0.5470 - accuracy: 0.7472 - val_loss: 2.0774 - val_accuracy: 0.6591\n",
      "Epoch 52/100\n",
      " 1/11 [=>............................] - ETA: 0s - loss: 0.6192 - accuracy: 0.6875\n",
      "Epoch 00052: val_loss did not improve from 1.12287\n",
      "11/11 [==============================] - 0s 3ms/step - loss: 0.5976 - accuracy: 0.7131 - val_loss: 2.0523 - val_accuracy: 0.6932\n",
      "Epoch 53/100\n",
      " 1/11 [=>............................] - ETA: 0s - loss: 0.5098 - accuracy: 0.7812\n",
      "Epoch 00053: val_loss did not improve from 1.12287\n",
      "11/11 [==============================] - 0s 3ms/step - loss: 0.5417 - accuracy: 0.7443 - val_loss: 1.7319 - val_accuracy: 0.7045\n",
      "Epoch 54/100\n",
      " 1/11 [=>............................] - ETA: 0s - loss: 0.4235 - accuracy: 0.8438\n",
      "Epoch 00054: val_loss did not improve from 1.12287\n",
      "11/11 [==============================] - 0s 3ms/step - loss: 0.5883 - accuracy: 0.6989 - val_loss: 1.7558 - val_accuracy: 0.7045\n",
      "Epoch 55/100\n",
      " 1/11 [=>............................] - ETA: 0s - loss: 0.5288 - accuracy: 0.6875\n",
      "Epoch 00055: val_loss did not improve from 1.12287\n",
      "11/11 [==============================] - 0s 2ms/step - loss: 0.5530 - accuracy: 0.7273 - val_loss: 1.8606 - val_accuracy: 0.6932\n",
      "Epoch 56/100\n",
      " 1/11 [=>............................] - ETA: 0s - loss: 0.7826 - accuracy: 0.5312\n",
      "Epoch 00056: val_loss did not improve from 1.12287\n",
      "11/11 [==============================] - 0s 3ms/step - loss: 0.5704 - accuracy: 0.7102 - val_loss: 1.8755 - val_accuracy: 0.7159\n",
      "Epoch 57/100\n",
      " 1/11 [=>............................] - ETA: 0s - loss: 0.4258 - accuracy: 0.8125\n",
      "Epoch 00057: val_loss did not improve from 1.12287\n",
      "11/11 [==============================] - 0s 3ms/step - loss: 0.5962 - accuracy: 0.7017 - val_loss: 2.0982 - val_accuracy: 0.6818\n",
      "Epoch 58/100\n",
      " 1/11 [=>............................] - ETA: 0s - loss: 0.5371 - accuracy: 0.8125\n",
      "Epoch 00058: val_loss did not improve from 1.12287\n",
      "11/11 [==============================] - 0s 3ms/step - loss: 0.5345 - accuracy: 0.7301 - val_loss: 2.2647 - val_accuracy: 0.6932\n",
      "Epoch 59/100\n",
      " 1/11 [=>............................] - ETA: 0s - loss: 0.4952 - accuracy: 0.7812\n",
      "Epoch 00059: val_loss did not improve from 1.12287\n",
      "11/11 [==============================] - 0s 3ms/step - loss: 0.5863 - accuracy: 0.7159 - val_loss: 2.4333 - val_accuracy: 0.6818\n"
     ]
    },
    {
     "name": "stdout",
     "output_type": "stream",
     "text": [
      "Epoch 60/100\n",
      " 1/11 [=>............................] - ETA: 0s - loss: 0.4361 - accuracy: 0.8125\n",
      "Epoch 00060: val_loss did not improve from 1.12287\n",
      "11/11 [==============================] - 0s 3ms/step - loss: 0.5483 - accuracy: 0.7500 - val_loss: 2.4165 - val_accuracy: 0.7045\n",
      "Epoch 61/100\n",
      " 1/11 [=>............................] - ETA: 0s - loss: 0.5132 - accuracy: 0.7500\n",
      "Epoch 00061: val_loss did not improve from 1.12287\n",
      "11/11 [==============================] - 0s 3ms/step - loss: 0.5375 - accuracy: 0.7273 - val_loss: 2.3283 - val_accuracy: 0.6818\n",
      "Epoch 62/100\n",
      " 1/11 [=>............................] - ETA: 0s - loss: 0.4317 - accuracy: 0.7812\n",
      "Epoch 00062: val_loss did not improve from 1.12287\n",
      "11/11 [==============================] - 0s 3ms/step - loss: 0.5611 - accuracy: 0.7188 - val_loss: 2.4630 - val_accuracy: 0.6818\n",
      "Epoch 63/100\n",
      " 1/11 [=>............................] - ETA: 0s - loss: 0.7147 - accuracy: 0.6875\n",
      "Epoch 00063: val_loss did not improve from 1.12287\n",
      "11/11 [==============================] - 0s 3ms/step - loss: 0.5961 - accuracy: 0.7273 - val_loss: 2.5719 - val_accuracy: 0.7273\n",
      "Epoch 64/100\n",
      " 1/11 [=>............................] - ETA: 0s - loss: 0.6736 - accuracy: 0.6875\n",
      "Epoch 00064: val_loss did not improve from 1.12287\n",
      "11/11 [==============================] - 0s 3ms/step - loss: 0.6567 - accuracy: 0.6847 - val_loss: 2.6540 - val_accuracy: 0.6818\n",
      "Epoch 65/100\n",
      " 1/11 [=>............................] - ETA: 0s - loss: 0.4619 - accuracy: 0.8125\n",
      "Epoch 00065: val_loss did not improve from 1.12287\n",
      "11/11 [==============================] - 0s 3ms/step - loss: 0.6031 - accuracy: 0.6875 - val_loss: 2.7562 - val_accuracy: 0.7045\n",
      "Epoch 66/100\n",
      " 1/11 [=>............................] - ETA: 0s - loss: 0.4540 - accuracy: 0.8125\n",
      "Epoch 00066: val_loss did not improve from 1.12287\n",
      "11/11 [==============================] - 0s 3ms/step - loss: 0.5715 - accuracy: 0.7330 - val_loss: 2.8203 - val_accuracy: 0.6932\n",
      "Epoch 67/100\n",
      " 1/11 [=>............................] - ETA: 0s - loss: 0.6690 - accuracy: 0.7188\n",
      "Epoch 00067: val_loss did not improve from 1.12287\n",
      "11/11 [==============================] - 0s 3ms/step - loss: 0.5784 - accuracy: 0.7358 - val_loss: 2.7833 - val_accuracy: 0.7045\n",
      "Epoch 68/100\n",
      " 1/11 [=>............................] - ETA: 0s - loss: 0.6139 - accuracy: 0.6562\n",
      "Epoch 00068: val_loss did not improve from 1.12287\n",
      "11/11 [==============================] - 0s 3ms/step - loss: 0.6109 - accuracy: 0.7045 - val_loss: 3.1337 - val_accuracy: 0.6477\n",
      "Epoch 69/100\n",
      " 1/11 [=>............................] - ETA: 0s - loss: 0.5956 - accuracy: 0.7188\n",
      "Epoch 00069: val_loss did not improve from 1.12287\n",
      "11/11 [==============================] - 0s 3ms/step - loss: 0.6472 - accuracy: 0.6847 - val_loss: 2.7659 - val_accuracy: 0.6705\n",
      "Epoch 70/100\n",
      " 1/11 [=>............................] - ETA: 0s - loss: 0.5599 - accuracy: 0.7500\n",
      "Epoch 00070: val_loss did not improve from 1.12287\n",
      "11/11 [==============================] - 0s 2ms/step - loss: 0.6213 - accuracy: 0.6875 - val_loss: 2.0006 - val_accuracy: 0.6591\n",
      "Epoch 71/100\n",
      " 1/11 [=>............................] - ETA: 0s - loss: 0.5335 - accuracy: 0.7500\n",
      "Epoch 00071: val_loss did not improve from 1.12287\n",
      "11/11 [==============================] - 0s 3ms/step - loss: 0.6157 - accuracy: 0.6875 - val_loss: 2.6574 - val_accuracy: 0.7045\n",
      "Epoch 72/100\n",
      " 1/11 [=>............................] - ETA: 0s - loss: 0.6990 - accuracy: 0.5938\n",
      "Epoch 00072: val_loss did not improve from 1.12287\n",
      "11/11 [==============================] - 0s 2ms/step - loss: 0.6236 - accuracy: 0.7188 - val_loss: 2.6677 - val_accuracy: 0.6932\n",
      "Epoch 73/100\n",
      " 1/11 [=>............................] - ETA: 0s - loss: 0.7466 - accuracy: 0.5938\n",
      "Epoch 00073: val_loss did not improve from 1.12287\n",
      "11/11 [==============================] - 0s 2ms/step - loss: 0.6210 - accuracy: 0.7102 - val_loss: 1.6298 - val_accuracy: 0.6932\n",
      "Epoch 74/100\n",
      " 1/11 [=>............................] - ETA: 0s - loss: 0.5086 - accuracy: 0.7812\n",
      "Epoch 00074: val_loss did not improve from 1.12287\n",
      "11/11 [==============================] - 0s 3ms/step - loss: 0.5698 - accuracy: 0.7386 - val_loss: 2.1882 - val_accuracy: 0.6932\n",
      "Epoch 75/100\n",
      " 1/11 [=>............................] - ETA: 0s - loss: 0.5009 - accuracy: 0.7188\n",
      "Epoch 00075: val_loss did not improve from 1.12287\n",
      "11/11 [==============================] - 0s 2ms/step - loss: 0.6213 - accuracy: 0.6932 - val_loss: 1.8196 - val_accuracy: 0.7273\n",
      "Epoch 76/100\n",
      " 1/11 [=>............................] - ETA: 0s - loss: 0.5571 - accuracy: 0.6875\n",
      "Epoch 00076: val_loss did not improve from 1.12287\n",
      "11/11 [==============================] - 0s 2ms/step - loss: 0.6440 - accuracy: 0.6932 - val_loss: 2.0527 - val_accuracy: 0.7045\n",
      "Epoch 77/100\n",
      " 1/11 [=>............................] - ETA: 0s - loss: 0.6879 - accuracy: 0.6250\n",
      "Epoch 00077: val_loss did not improve from 1.12287\n",
      "11/11 [==============================] - 0s 3ms/step - loss: 0.6208 - accuracy: 0.6989 - val_loss: 2.0837 - val_accuracy: 0.6932\n",
      "Epoch 78/100\n",
      " 1/11 [=>............................] - ETA: 0s - loss: 0.6891 - accuracy: 0.6250\n",
      "Epoch 00078: val_loss did not improve from 1.12287\n",
      "11/11 [==============================] - 0s 2ms/step - loss: 0.6207 - accuracy: 0.6989 - val_loss: 2.0091 - val_accuracy: 0.7045\n",
      "Epoch 79/100\n",
      " 1/11 [=>............................] - ETA: 0s - loss: 0.4717 - accuracy: 0.7188\n",
      "Epoch 00079: val_loss did not improve from 1.12287\n",
      "11/11 [==============================] - 0s 2ms/step - loss: 0.5515 - accuracy: 0.7244 - val_loss: 2.0827 - val_accuracy: 0.7045\n",
      "Epoch 80/100\n",
      " 1/11 [=>............................] - ETA: 0s - loss: 0.7153 - accuracy: 0.6875\n",
      "Epoch 00080: val_loss did not improve from 1.12287\n",
      "11/11 [==============================] - 0s 3ms/step - loss: 0.5797 - accuracy: 0.7273 - val_loss: 2.0479 - val_accuracy: 0.7045\n",
      "Epoch 81/100\n",
      " 1/11 [=>............................] - ETA: 0s - loss: 0.6165 - accuracy: 0.6875\n",
      "Epoch 00081: val_loss did not improve from 1.12287\n",
      "11/11 [==============================] - 0s 2ms/step - loss: 0.6153 - accuracy: 0.6989 - val_loss: 2.3666 - val_accuracy: 0.7045\n",
      "Epoch 82/100\n",
      " 1/11 [=>............................] - ETA: 0s - loss: 0.5977 - accuracy: 0.6875\n",
      "Epoch 00082: val_loss did not improve from 1.12287\n",
      "11/11 [==============================] - 0s 3ms/step - loss: 0.6579 - accuracy: 0.7045 - val_loss: 1.7787 - val_accuracy: 0.7159\n",
      "Epoch 83/100\n",
      " 1/11 [=>............................] - ETA: 0s - loss: 0.4898 - accuracy: 0.7812\n",
      "Epoch 00083: val_loss did not improve from 1.12287\n",
      "11/11 [==============================] - 0s 3ms/step - loss: 0.6195 - accuracy: 0.6847 - val_loss: 1.6163 - val_accuracy: 0.6932\n",
      "Epoch 84/100\n",
      " 1/11 [=>............................] - ETA: 0s - loss: 0.7176 - accuracy: 0.6250\n",
      "Epoch 00084: val_loss did not improve from 1.12287\n",
      "11/11 [==============================] - 0s 3ms/step - loss: 0.6248 - accuracy: 0.7017 - val_loss: 1.3913 - val_accuracy: 0.6932\n",
      "Epoch 85/100\n",
      " 1/11 [=>............................] - ETA: 0s - loss: 0.7032 - accuracy: 0.6250\n",
      "Epoch 00085: val_loss did not improve from 1.12287\n",
      "11/11 [==============================] - 0s 3ms/step - loss: 0.6238 - accuracy: 0.7017 - val_loss: 1.4563 - val_accuracy: 0.7159\n",
      "Epoch 86/100\n",
      " 1/11 [=>............................] - ETA: 0s - loss: 0.7239 - accuracy: 0.5625\n",
      "Epoch 00086: val_loss did not improve from 1.12287\n",
      "11/11 [==============================] - 0s 3ms/step - loss: 0.6517 - accuracy: 0.6903 - val_loss: 1.5221 - val_accuracy: 0.7159\n",
      "Epoch 87/100\n",
      " 1/11 [=>............................] - ETA: 0s - loss: 0.5920 - accuracy: 0.7812\n",
      "Epoch 00087: val_loss did not improve from 1.12287\n",
      "11/11 [==============================] - 0s 2ms/step - loss: 0.6222 - accuracy: 0.7188 - val_loss: 1.4218 - val_accuracy: 0.7159\n",
      "Epoch 88/100\n",
      " 1/11 [=>............................] - ETA: 0s - loss: 0.5728 - accuracy: 0.6875\n",
      "Epoch 00088: val_loss did not improve from 1.12287\n",
      "11/11 [==============================] - 0s 2ms/step - loss: 0.6243 - accuracy: 0.7131 - val_loss: 1.4655 - val_accuracy: 0.7159\n",
      "Epoch 89/100\n",
      " 1/11 [=>............................] - ETA: 0s - loss: 0.5141 - accuracy: 0.7188\n",
      "Epoch 00089: val_loss did not improve from 1.12287\n",
      "11/11 [==============================] - 0s 3ms/step - loss: 0.5873 - accuracy: 0.7415 - val_loss: 1.5315 - val_accuracy: 0.7273\n"
     ]
    },
    {
     "name": "stdout",
     "output_type": "stream",
     "text": [
      "Epoch 90/100\n",
      " 1/11 [=>............................] - ETA: 0s - loss: 0.5408 - accuracy: 0.7188\n",
      "Epoch 00090: val_loss did not improve from 1.12287\n",
      "11/11 [==============================] - 0s 3ms/step - loss: 0.5851 - accuracy: 0.7273 - val_loss: 1.5588 - val_accuracy: 0.7273\n",
      "Epoch 91/100\n",
      " 1/11 [=>............................] - ETA: 0s - loss: 0.6263 - accuracy: 0.7500\n",
      "Epoch 00091: val_loss did not improve from 1.12287\n",
      "11/11 [==============================] - 0s 3ms/step - loss: 0.5972 - accuracy: 0.7131 - val_loss: 1.3595 - val_accuracy: 0.7045\n",
      "Epoch 92/100\n",
      " 1/11 [=>............................] - ETA: 0s - loss: 0.5358 - accuracy: 0.7812\n",
      "Epoch 00092: val_loss did not improve from 1.12287\n",
      "11/11 [==============================] - 0s 2ms/step - loss: 0.5893 - accuracy: 0.7244 - val_loss: 1.5432 - val_accuracy: 0.7045\n",
      "Epoch 93/100\n",
      " 1/11 [=>............................] - ETA: 0s - loss: 0.5258 - accuracy: 0.8125\n",
      "Epoch 00093: val_loss improved from 1.12287 to 1.10689, saving model to save_models\\audio_classification.hdf5\n",
      "11/11 [==============================] - 0s 3ms/step - loss: 0.5990 - accuracy: 0.7472 - val_loss: 1.1069 - val_accuracy: 0.6818\n",
      "Epoch 94/100\n",
      " 1/11 [=>............................] - ETA: 0s - loss: 0.7292 - accuracy: 0.6875\n",
      "Epoch 00094: val_loss did not improve from 1.10689\n",
      "11/11 [==============================] - 0s 3ms/step - loss: 0.6416 - accuracy: 0.7102 - val_loss: 1.2968 - val_accuracy: 0.6932\n",
      "Epoch 95/100\n",
      " 1/11 [=>............................] - ETA: 0s - loss: 0.5968 - accuracy: 0.6875\n",
      "Epoch 00095: val_loss did not improve from 1.10689\n",
      "11/11 [==============================] - 0s 3ms/step - loss: 0.6264 - accuracy: 0.7102 - val_loss: 1.3748 - val_accuracy: 0.7159\n",
      "Epoch 96/100\n",
      " 1/11 [=>............................] - ETA: 0s - loss: 0.5514 - accuracy: 0.7812\n",
      "Epoch 00096: val_loss did not improve from 1.10689\n",
      "11/11 [==============================] - 0s 3ms/step - loss: 0.6009 - accuracy: 0.7216 - val_loss: 1.5441 - val_accuracy: 0.7159\n",
      "Epoch 97/100\n",
      " 1/11 [=>............................] - ETA: 0s - loss: 0.5526 - accuracy: 0.7500\n",
      "Epoch 00097: val_loss did not improve from 1.10689\n",
      "11/11 [==============================] - 0s 3ms/step - loss: 0.6093 - accuracy: 0.7188 - val_loss: 1.2345 - val_accuracy: 0.7273\n",
      "Epoch 98/100\n",
      " 1/11 [=>............................] - ETA: 0s - loss: 0.5162 - accuracy: 0.7500\n",
      "Epoch 00098: val_loss did not improve from 1.10689\n",
      "11/11 [==============================] - 0s 3ms/step - loss: 0.6095 - accuracy: 0.7074 - val_loss: 1.3255 - val_accuracy: 0.7273\n",
      "Epoch 99/100\n",
      " 1/11 [=>............................] - ETA: 0s - loss: 0.8621 - accuracy: 0.5312\n",
      "Epoch 00099: val_loss improved from 1.10689 to 1.10671, saving model to save_models\\audio_classification.hdf5\n",
      "11/11 [==============================] - 0s 3ms/step - loss: 0.6134 - accuracy: 0.6960 - val_loss: 1.1067 - val_accuracy: 0.7386\n",
      "Epoch 100/100\n",
      " 1/11 [=>............................] - ETA: 0s - loss: 0.7198 - accuracy: 0.5625\n",
      "Epoch 00100: val_loss improved from 1.10671 to 1.07830, saving model to save_models\\audio_classification.hdf5\n",
      "11/11 [==============================] - 0s 2ms/step - loss: 0.6538 - accuracy: 0.6676 - val_loss: 1.0783 - val_accuracy: 0.7273\n",
      "Training completed in time:  0:00:03.259450\n"
     ]
    }
   ],
   "source": [
    "## Training the model\n",
    "## features = 40\n",
    "num_epochs= 100\n",
    "num_batch_size=32\n",
    "\n",
    "checkpointer=ModelCheckpoint(filepath='save_models/audio_classification.hdf5',verbose=1,save_best_only=True)\n",
    "start=datetime.now()\n",
    "\n",
    "model.fit(X_train, y_train, batch_size=num_batch_size, epochs=num_epochs, validation_data=(X_test,y_test), callbacks= [checkpointer])\n",
    "\n",
    "\n",
    "duration = datetime.now()- start\n",
    "print(\"Training completed in time: \", duration);"
   ]
  },
  {
   "cell_type": "markdown",
   "metadata": {},
   "source": [
    "## Accurancy of prediction"
   ]
  },
  {
   "cell_type": "code",
   "execution_count": 71,
   "metadata": {},
   "outputs": [
    {
     "name": "stdout",
     "output_type": "stream",
     "text": [
      "0.7272727489471436\n"
     ]
    }
   ],
   "source": [
    "test_accurancy=model.evaluate(X_test,y_test,verbose=0)\n",
    "print(test_accurancy[1])"
   ]
  },
  {
   "cell_type": "markdown",
   "metadata": {},
   "source": [
    "## Test out the model"
   ]
  },
  {
   "cell_type": "code",
   "execution_count": 101,
   "metadata": {},
   "outputs": [
    {
     "data": {
      "text/plain": [
       "array(['waiting_for_food'], dtype='<U16')"
      ]
     },
     "execution_count": 101,
     "metadata": {},
     "output_type": "execute_result"
    }
   ],
   "source": [
    "## Test it out\n",
    "filename=\"ML project\\F_MAG01_EU_FN_FED01_101.wav\"\n",
    "audio,sample_rate=librosa.load(filename,res_type='kaiser_fast')\n",
    "mfccs_features = librosa.feature.mfcc(y=audio,sr=sample_rate,n_mfcc=40)\n",
    "mfccs_scaled_features=np.mean(mfccs_features.T,axis=0)\n",
    "\n",
    "\n",
    "mfccs_scaled_features=mfccs_scaled_features.reshape(1,-1)\n",
    "predicted_label=model.predict_classes(mfccs_scaled_features)\n",
    "prediction_class=labelencoder.inverse_transform(predicted_label)\n",
    "prediction_class"
   ]
  },
  {
   "cell_type": "code",
   "execution_count": null,
   "metadata": {},
   "outputs": [],
   "source": []
  },
  {
   "cell_type": "code",
   "execution_count": null,
   "metadata": {},
   "outputs": [],
   "source": []
  },
  {
   "cell_type": "code",
   "execution_count": null,
   "metadata": {},
   "outputs": [],
   "source": []
  }
 ],
 "metadata": {
  "kernelspec": {
   "display_name": "Python 3",
   "language": "python",
   "name": "python3"
  },
  "language_info": {
   "codemirror_mode": {
    "name": "ipython",
    "version": 3
   },
   "file_extension": ".py",
   "mimetype": "text/x-python",
   "name": "python",
   "nbconvert_exporter": "python",
   "pygments_lexer": "ipython3",
   "version": "3.8.10"
  }
 },
 "nbformat": 4,
 "nbformat_minor": 4
}
